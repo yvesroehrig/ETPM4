{
 "cells": [
  {
   "cell_type": "code",
   "execution_count": 9,
   "metadata": {},
   "outputs": [],
   "source": [
    "# Imports\n",
    "import numpy as np\n",
    "from scipy.fft import fft, fftshift, fftfreq\n",
    "from scipy.signal import hann, butter, filtfilt, lfilter\n",
    "from scipy import signal\n",
    "from matplotlib import use\n",
    "import matplotlib.pyplot as plt\n",
    "import time\n",
    "\n",
    "import matplotlib as mpl\n",
    "import matplotlib.figure as mpf\n",
    "\n",
    "use('AGG')\n",
    "output = False"
   ]
  },
  {
   "cell_type": "code",
   "execution_count": 10,
   "metadata": {},
   "outputs": [
    {
     "name": "stdout",
     "output_type": "stream",
     "text": [
      "Transmit frequency: 24000000000.0\n",
      "Speed of light: 300000000.0\n",
      "Lambda: 0.0125\n",
      "0.00011111111111111112 0.11377777777777778\n"
     ]
    }
   ],
   "source": [
    "# Constants\n",
    "fc = 24e9\n",
    "c = 3e8\n",
    "ld = c/fc\n",
    "\n",
    "print(\"Transmit frequency: \" + str(fc))\n",
    "print(\"Speed of light: \" + str(c))\n",
    "print(\"Lambda: \" + str(ld))\n",
    "\n",
    "# Parameter\n",
    "N_FFT = 1024        # Number of measuring points \n",
    "FS = 9000          # Sampling frequency\n",
    "wFS = FS*2*np.pi    # circular sampling frequency\n",
    "DT = 1/FS           # Time per sample\n",
    "TS = DT*N_FFT       # Sampling time\n",
    "\n",
    "print(DT,TS)"
   ]
  },
  {
   "cell_type": "code",
   "execution_count": 11,
   "metadata": {},
   "outputs": [
    {
     "name": "stdout",
     "output_type": "stream",
     "text": [
      "0.003999948501586914\n",
      "0.002999544143676758\n"
     ]
    },
    {
     "name": "stderr",
     "output_type": "stream",
     "text": [
      "C:\\Users\\brudi\\AppData\\Local\\Temp\\ipykernel_28584\\4245925793.py:43: UserWarning: Matplotlib is currently using agg, which is a non-GUI backend, so cannot show the figure.\n",
      "  plt.show()\n",
      "C:\\Users\\brudi\\AppData\\Local\\Temp\\ipykernel_28584\\4245925793.py:58: UserWarning: Matplotlib is currently using agg, which is a non-GUI backend, so cannot show the figure.\n",
      "  plt.show()\n"
     ]
    }
   ],
   "source": [
    "\n",
    "# demo signal\n",
    "t = np.linspace(0,TS,N_FFT) # time vector\n",
    "\n",
    "# main Signal\n",
    "f1 = 1000                   # Frequency for the demo signal\n",
    "w1 = 2*np.pi*f1             # circular frequency\n",
    "A1 = 2.500                  # Amplitude\n",
    "DC = 2.5                    # DC value\n",
    "I1 = A1*np.cos(w1*t) + DC   # Build the signal\n",
    "\n",
    "Q1 = A1*-np.sin(w1*t) + DC\n",
    "\n",
    "# noise 1\n",
    "# 20kHz\n",
    "fn1 = 20000                 # Frequency of the noise\n",
    "wn1 = 2*np.pi*fn1           # circular frequency\n",
    "An1 = 0.100                 # Amplitude\n",
    "In1 = An1*np.cos(wn1*t)     # Build the signal\n",
    "\n",
    "# noise 2\n",
    "# 50Hz\n",
    "fn2 = 50\n",
    "wn2 = 2*np.pi*fn1\n",
    "An2 = 0.300\n",
    "In2 = An2*np.cos(wn2*t)\n",
    "\n",
    "# Signal\n",
    "I = I1 + In1 + In2 # Signal I\n",
    "Q = Q1 + In1 + In2 # Signal Q\n",
    "# y= I + Q1*1j\n",
    "\n",
    "plt.figure(num=1,figsize=[5,3.74])\n",
    "time1 = time.time()\n",
    "# Plot of the Signal\n",
    "plt.plot(t,I,t,Q)\n",
    "plt.grid()\n",
    "plt.title(\"Input Signal\")\n",
    "plt.xlabel(\"Time in s\")\n",
    "plt.ylabel(\"Voltage in V\")\n",
    "plt.legend([\"I-Signal\", \"Q-Singal\"])\n",
    "if output == True:\n",
    "    plt.savefig(\"Input.jpg\",dpi=100)\n",
    "plt.show()\n",
    "time2 = time.time()\n",
    "print(time2-time1)\n",
    "\n",
    "plt.figure(2)\n",
    "time1 = time.time()\n",
    "# Plot of the Signal\n",
    "plt.plot(t,I,t,Q)\n",
    "plt.grid()\n",
    "plt.title(\"Input Signal\")\n",
    "plt.xlabel(\"Time in s\")\n",
    "plt.ylabel(\"Voltage in V\")\n",
    "plt.legend([\"I-Signal\", \"Q-Singal\"])\n",
    "if output == True:\n",
    "    plt.savefig(\"Input.png\",dpi=100)\n",
    "plt.show()\n",
    "time2 = time.time()\n",
    "print(time2-time1)\n"
   ]
  },
  {
   "cell_type": "code",
   "execution_count": 12,
   "metadata": {},
   "outputs": [
    {
     "ename": "AttributeError",
     "evalue": "module 'matplotlib.pyplot' has no attribute 'supblots'",
     "output_type": "error",
     "traceback": [
      "\u001b[1;31m---------------------------------------------------------------------------\u001b[0m",
      "\u001b[1;31mAttributeError\u001b[0m                            Traceback (most recent call last)",
      "\u001b[1;32mc:\\Users\\brudi\\OneDrive\\Dokumente\\GitHub\\ETPM4\\src\\calculations.ipynb Cell 4'\u001b[0m in \u001b[0;36m<cell line: 1>\u001b[1;34m()\u001b[0m\n\u001b[1;32m----> <a href='vscode-notebook-cell:/c%3A/Users/brudi/OneDrive/Dokumente/GitHub/ETPM4/src/calculations.ipynb#ch0000010?line=0'>1</a>\u001b[0m fig1,ax1 \u001b[39m=\u001b[39m plt\u001b[39m.\u001b[39;49msupblots\n\u001b[0;32m      <a href='vscode-notebook-cell:/c%3A/Users/brudi/OneDrive/Dokumente/GitHub/ETPM4/src/calculations.ipynb#ch0000010?line=1'>2</a>\u001b[0m ax1\u001b[39m.\u001b[39mplot()\n",
      "\u001b[1;31mAttributeError\u001b[0m: module 'matplotlib.pyplot' has no attribute 'supblots'"
     ]
    }
   ],
   "source": [
    "fig1,ax1 = plt.supblots\n",
    "ax1.plot()"
   ]
  },
  {
   "cell_type": "code",
   "execution_count": null,
   "metadata": {},
   "outputs": [],
   "source": [
    "# Calculate DC\n",
    "DC_I = 1/N_FFT * np.sum(I)\n",
    "DC_Q = 1/N_FFT * np.sum(Q)\n",
    "print(DC)\n",
    "\n",
    "# remove DC\n",
    "I = I-DC_I\n",
    "Q = Q-DC_Q\n",
    "\n",
    "plt.plot(t,I,t,Q)\n",
    "plt.grid()\n",
    "plt.title(\"Input Signal with removed DC\")\n",
    "plt.xlabel(\"Time in s\")\n",
    "plt.ylabel(\"Voltage in V\")\n",
    "plt.legend([\"I-Signal\", \"Q-Singal\"])\n",
    "if output == True:\n",
    "    plt.savefig(\"DC_free_input.jpg\",dpi=100)\n",
    "plt.show()"
   ]
  },
  {
   "cell_type": "code",
   "execution_count": null,
   "metadata": {},
   "outputs": [],
   "source": [
    "# create the filter\n",
    "b,a = butter(4, 400*2*np.pi, btype=\"highpass\", fs=(FS*2*np.pi), output='ba', analog=False)\n",
    "\n",
    "# frequency response\n",
    "w,h = signal.freqz(b,a, worN=N_FFT,fs=wFS)\n",
    "plt.semilogx(w/(2*np.pi),20*np.log10(abs(h)))\n",
    "plt.title('Butterworth filter frequency response')\n",
    "plt.xlabel('Frequency [Hz]')\n",
    "plt.ylabel('Amplitude [dB]')\n",
    "plt.grid(which='both', axis='both')\n",
    "#plt.margins(0, 0.1)\n",
    "plt.axvline(400, color='green') # highpass frequency\n",
    "plt.axvline(4444, color='green') # lowpass frequency\n",
    "plt.legend([\"Frequency response\",\"Pass Band\"])\n",
    "if output == True:\n",
    "    plt.savefig(\"Filter.jpg\", dpi=150)\n",
    "plt.show()"
   ]
  },
  {
   "cell_type": "code",
   "execution_count": null,
   "metadata": {},
   "outputs": [],
   "source": [
    "# filter the signal with lfilter\n",
    "I_filt1 = lfilter(b,a,I)\n",
    "Q_filt1 = lfilter(b,a,Q)\n",
    "\n",
    "# filter the signal with filtfilt\n",
    "I_filt2 = filtfilt(b,a,I)\n",
    "Q_filt2 = filtfilt(b,a,Q)\n",
    "\n",
    "# plot the filtered signals\n",
    "plt.subplot(211)\n",
    "plt.plot(t,I_filt2,t,Q_filt2)\n",
    "plt.title(\"Filtered Input Signal\")\n",
    "plt.ylabel(\"filtfilt\")\n",
    "plt.grid()\n",
    "\n",
    "plt.subplot(212)\n",
    "plt.plot(t,I_filt1,t,Q_filt1)\n",
    "plt.xlabel(\"Time in s\")\n",
    "plt.ylabel(\"lfilter\")\n",
    "plt.grid()\n",
    "if output == True:\n",
    "    plt.savefig(\"Filter_compared.jpg\", dpi=100)\n",
    "plt.show()\n"
   ]
  },
  {
   "cell_type": "code",
   "execution_count": null,
   "metadata": {},
   "outputs": [],
   "source": [
    "#create a Window\n",
    "window = hann(N_FFT, sym=True)\n",
    "plt.plot(window)\n",
    "plt.title(\"Hanning Window\")\n",
    "plt.xlabel(\"Sample Number\")\n",
    "plt.ylabel(\"Amplitude\")\n",
    "plt.grid()\n",
    "if output == True:\n",
    "    plt.savefig(\"Window.jpg\",dpi=150)\n",
    "plt.show()\n",
    "\n"
   ]
  },
  {
   "cell_type": "code",
   "execution_count": null,
   "metadata": {},
   "outputs": [],
   "source": [
    "# apply the Window\n",
    "I_filt = np.multiply(window,I_filt1)\n",
    "Q_filt = np.multiply(window,Q_filt1) \n",
    "plt.plot(t,I_filt,t,Q_filt)\n",
    "plt.grid()\n",
    "plt.title(\"Filtered and windowed Signal\")\n",
    "if output == True:\n",
    "    plt.savefig(\"filtered_windowed.jpg\", dpi=100)\n",
    "plt.show()"
   ]
  },
  {
   "cell_type": "code",
   "execution_count": null,
   "metadata": {},
   "outputs": [],
   "source": [
    "# Combining I and Q signal\n",
    "z_t = I_filt + Q_filt * 1j\n",
    "\n",
    "# Perform the FFT\n",
    "z_f = fftshift(fft(z_t,norm='forward'))\n",
    "x_f = fftshift(fftfreq(N_FFT,DT))\n",
    "z_f_abs = np.abs(z_f)\n",
    "\n",
    "# Plot the FFT\n",
    "plt.plot((x_f),z_f_abs,'*')\n",
    "plt.grid()\n",
    "plt.title(\"FFT\")\n",
    "plt.xlabel(\"Frequency [Hz]\")\n",
    "plt.ylabel(\"|Signal|\")\n",
    "if output == True:\n",
    "    plt.savefig(\"FFT.jpg\",dpi=100)\n",
    "plt.show()"
   ]
  },
  {
   "cell_type": "code",
   "execution_count": null,
   "metadata": {},
   "outputs": [],
   "source": [
    "# Calculate resulting speed -> v = fd/2 * lamda\n",
    "# z = np.zeros((N_FFT,2))\n",
    "\n",
    "# z[:,0] = z_f_abs\n",
    "# z[:,1] = x_f\n",
    "\n",
    "n_max = np.argmax(z_f_abs)\n",
    "print(\"n Max: \" + str(n_max))\n",
    "max_f = x_f[n_max-1]\n",
    "print(\"n Max: \" + str(n_max) + \"; max f:\" + str(max_f))\n",
    "print(\"end of file\")\n",
    "\n",
    "v = 3.6*max_f/2*ld\n",
    "print(\"Simulated Speed: \"+ str(v))"
   ]
  }
 ],
 "metadata": {
  "interpreter": {
   "hash": "8958d63e1624e87797f0ca33c045c862edd610f6f6e5f8f47f8086bfd1f85060"
  },
  "kernelspec": {
   "display_name": "Python 3.10.4 64-bit (windows store)",
   "language": "python",
   "name": "python3"
  },
  "language_info": {
   "codemirror_mode": {
    "name": "ipython",
    "version": 3
   },
   "file_extension": ".py",
   "mimetype": "text/x-python",
   "name": "python",
   "nbconvert_exporter": "python",
   "pygments_lexer": "ipython3",
   "version": "3.10.4"
  },
  "orig_nbformat": 4
 },
 "nbformat": 4,
 "nbformat_minor": 2
}
